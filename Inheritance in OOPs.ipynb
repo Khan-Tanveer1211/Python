{
 "cells": [
  {
   "cell_type": "code",
   "execution_count": 18,
   "id": "319f3dc8",
   "metadata": {},
   "outputs": [],
   "source": [
    "class Employee:\n",
    "    def __init__(self, name, id):\n",
    "        self.name = name\n",
    "        self.id = id\n",
    "    \n",
    "    def show_details(self):\n",
    "        print(f\"The name of Employee {self.name.upper()} and id is {self.id}\")"
   ]
  },
  {
   "cell_type": "code",
   "execution_count": 19,
   "id": "d58dd3b5",
   "metadata": {},
   "outputs": [],
   "source": [
    "e1 = Employee(\"Tanveer\",\"53\")"
   ]
  },
  {
   "cell_type": "code",
   "execution_count": 20,
   "id": "e77db273",
   "metadata": {},
   "outputs": [
    {
     "name": "stdout",
     "output_type": "stream",
     "text": [
      "The name of Employee TANVEER and id is 53\n"
     ]
    }
   ],
   "source": [
    "e1.show_details()"
   ]
  },
  {
   "cell_type": "code",
   "execution_count": 21,
   "id": "38c6ca2f",
   "metadata": {},
   "outputs": [],
   "source": [
    "class programmer(Employee):\n",
    "    def __init__(self, name, id, Age):\n",
    "        self.Age = Age\n",
    "        super().__init__(name,id)\n",
    "    def programmer_detail(self):\n",
    "        print(f\"The name of Employee {self.name.upper()} and id is {self.id} and Age is {self.Age}\")\n",
    "        "
   ]
  },
  {
   "cell_type": "code",
   "execution_count": 22,
   "id": "b6d77a6d",
   "metadata": {},
   "outputs": [],
   "source": [
    "class country(programmer):\n",
    "    def __init__(self,name, id, Age,Country):\n",
    "        super().__init__(name,id,Age)\n",
    "        self.country = Country\n",
    "    def country_details(self):\n",
    "        print(f\"The name of Employee {self.name.upper()},  id is {self.id}, Age is {self.Age},from {self.country} \")\n",
    "                 "
   ]
  },
  {
   "cell_type": "code",
   "execution_count": 23,
   "id": "80441f54",
   "metadata": {},
   "outputs": [
    {
     "name": "stdout",
     "output_type": "stream",
     "text": [
      "The name of Employee TANVEER and id is 53\n"
     ]
    }
   ],
   "source": [
    "e1 = Employee(\"Tanveer\", \"53\")\n",
    "e1.show_details()"
   ]
  },
  {
   "cell_type": "code",
   "execution_count": 24,
   "id": "8fb37fd7",
   "metadata": {},
   "outputs": [
    {
     "name": "stdout",
     "output_type": "stream",
     "text": [
      "The name of Employee TANVEER and id is 53 and Age is 32\n"
     ]
    }
   ],
   "source": [
    "e2= programmer(\"Tanveer\",\"53\",\"32\")\n",
    "e2.programmer_detail()"
   ]
  },
  {
   "cell_type": "code",
   "execution_count": 25,
   "id": "774cae68",
   "metadata": {},
   "outputs": [
    {
     "name": "stdout",
     "output_type": "stream",
     "text": [
      "The name of Employee TANVEER,  id is 53, Age is 32,from India \n"
     ]
    }
   ],
   "source": [
    "e3 = country(\"Tanveer\",\"53\",\"32\",\"India\")\n",
    "e3.country_details()"
   ]
  },
  {
   "cell_type": "code",
   "execution_count": null,
   "id": "bf10a206",
   "metadata": {},
   "outputs": [],
   "source": []
  }
 ],
 "metadata": {
  "kernelspec": {
   "display_name": "Python 3 (ipykernel)",
   "language": "python",
   "name": "python3"
  },
  "language_info": {
   "codemirror_mode": {
    "name": "ipython",
    "version": 3
   },
   "file_extension": ".py",
   "mimetype": "text/x-python",
   "name": "python",
   "nbconvert_exporter": "python",
   "pygments_lexer": "ipython3",
   "version": "3.10.9"
  }
 },
 "nbformat": 4,
 "nbformat_minor": 5
}
