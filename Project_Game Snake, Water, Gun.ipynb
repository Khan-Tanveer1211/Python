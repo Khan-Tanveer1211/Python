{
 "cells": [
  {
   "cell_type": "code",
   "execution_count": null,
   "id": "48efbd72",
   "metadata": {},
   "outputs": [],
   "source": [
    "import random\n",
    "def game(comp,user):\n",
    "    if comp==user:\n",
    "        return 0\n",
    "    elif (comp == -1 and user== 0):\n",
    "        return -1\n",
    "    elif (comp == 0 and user == 1):\n",
    "        return -1\n",
    "    elif (comp == 1 and user == -1):\n",
    "        return -1\n",
    "    else:\n",
    "        return 1\n",
    "    \n",
    "comp=random.randint(-1,1)\n",
    "user = int(input(\"-1 for Snake, 0 for Water, 1 for Gun \\n\"))\n",
    "\n",
    "print(\"User\", user)\n",
    "print(\"Computer\", comp)\n",
    "score = game(comp,user)\n",
    "if score == 0:\n",
    "    print(\"Match Draw\")\n",
    "elif score == -1:\n",
    "    print(\"You Lose\")\n",
    "else:\n",
    "    print(\"You Won\")"
   ]
  },
  {
   "cell_type": "code",
   "execution_count": null,
   "id": "e4c2d0e1",
   "metadata": {},
   "outputs": [],
   "source": []
  },
  {
   "cell_type": "code",
   "execution_count": null,
   "id": "362a877e",
   "metadata": {},
   "outputs": [],
   "source": []
  }
 ],
 "metadata": {
  "kernelspec": {
   "display_name": "Python 3 (ipykernel)",
   "language": "python",
   "name": "python3"
  },
  "language_info": {
   "codemirror_mode": {
    "name": "ipython",
    "version": 3
   },
   "file_extension": ".py",
   "mimetype": "text/x-python",
   "name": "python",
   "nbconvert_exporter": "python",
   "pygments_lexer": "ipython3",
   "version": "3.10.9"
  }
 },
 "nbformat": 4,
 "nbformat_minor": 5
}
