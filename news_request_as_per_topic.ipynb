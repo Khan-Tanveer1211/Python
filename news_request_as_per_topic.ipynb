import requests
query= input("Which type of news are you interested in ? ")
url = f"https://newsapi.org/v2/everything?q={query}&from=2023-06-12&sortBy=publishedAt&apiKey= give_ur_api_key"                             #APIKey = 08ce00b3c9d849a28dd6ecfga03a05f2
news = requests.get(url).json()
#print(news)
article = news['articles']
new_article = []
line = 0
for art in article:
    line = line + 1
    new_article.append(art['title'])
print(line)
    #new_article.append(a)
for i in new_article:
    print(i)
    print('---------------')